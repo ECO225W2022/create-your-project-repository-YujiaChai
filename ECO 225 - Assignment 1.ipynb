{
 "cells": [
  {
   "cell_type": "markdown",
   "metadata": {},
   "source": [
    "# How severe was the United States of America's climate change compared to the rest of the world?\n"
   ]
  },
  {
   "cell_type": "markdown",
   "metadata": {},
   "source": [
    "**Introduction**\n",
    "\n",
    "The reference climate data are gathered by the Berkeley Earth and repackaged by Kaggle. Berkeley Earth was founded in 2010 to illustrate global warming by observing global temperatures and analyzing climate change from these data. This dataset contains the monthly average temperatures of cities, states, countries and the globe from up to 2013. The PM2.5 Global Air Pollution 2010-2017 data is referenced by Brauer on The World Bank website. This dataset contains the annual average exposure of PM 2.5 in micrograms per cubic meter for each country. The land temperature is not the same as the air temperature, which is reported in weather forcast. It is the measurement of the temperature of the land surface.\n",
    "\n",
    "This project aims to analyze the degree of climate change in the United States of America compared to global climate change in twenty-one years. To achieve this goal, I will statistically graph and analyze the annual average land temperatures in the US compared to the other countries in North America. Another topic of this project is to determine the correlation between the concentration of PM 2.5 in the air and the land temperature in the US. From analyzing the change in US's land temperature with respect to different years and PM 2.5 concentration, we will gain a more comprehensive understanding of climate change in the US."
   ]
  },
  {
   "cell_type": "code",
   "execution_count": 3,
   "metadata": {},
   "outputs": [],
   "source": [
    "import pandas as pd\n",
    "import numpy as np\n",
    "import matplotlib.pyplot as plt"
   ]
  },
  {
   "cell_type": "code",
   "execution_count": 4,
   "metadata": {},
   "outputs": [],
   "source": [
    "# upload the data\n",
    "city_temperature = pd.read_csv(r\"C:\\Users\\amyc0\\OneDrive\\Documents\\ECO225\\archive\\GlobalLandTemperaturesByCity.csv\")\n",
    "major_temperature = pd.read_csv(r\"C:\\Users\\amyc0\\OneDrive\\Documents\\ECO225\\archive\\GlobalLandTemperaturesByMajorCity.csv\")\n",
    "state_temperature = pd.read_csv(r\"C:\\Users\\amyc0\\OneDrive\\Documents\\ECO225\\archive\\GlobalLandTemperaturesByState.csv\")\n",
    "country_temperature = pd.read_csv(r\"C:\\Users\\amyc0\\OneDrive\\Documents\\ECO225\\archive\\GlobalLandTemperaturesByCountry.csv\")\n",
    "global_temperature = pd.read_csv(r\"C:\\Users\\amyc0\\OneDrive\\Documents\\ECO225\\archive\\GlobalTemperatures.csv\")\n",
    "pollution = pd.read_csv(r\"C:\\Users\\amyc0\\OneDrive\\Documents\\ECO225\\archive\\PM2.5GlobalAirPollution.csv\")"
   ]
  },
  {
   "cell_type": "code",
   "execution_count": 5,
   "metadata": {},
   "outputs": [],
   "source": [
    "# data cleaning process\n",
    "# drop the missing data\n",
    "city_t = city_temperature.dropna()\n",
    "major_t = major_temperature.dropna()\n",
    "state_t = state_temperature.dropna()\n",
    "country_t = country_temperature.dropna()\n",
    "global_t = global_temperature.dropna()"
   ]
  },
  {
   "cell_type": "code",
   "execution_count": 6,
   "metadata": {},
   "outputs": [],
   "source": [
    "# data cleaning process\n",
    "# collect all the data of USA\n",
    "us_city_t = city_t.groupby(\"Country\").get_group(\"United States\")\n",
    "us_major_t = major_t.groupby(\"Country\").get_group(\"United States\")\n",
    "us_state_t = state_t.groupby(\"Country\").get_group(\"United States\")\n",
    "\n",
    "us_poll = pollution.dropna().groupby(\"Country Name\").get_group(\"United States\").drop(['2016', '2017'], axis=1)\n",
    "us_poll_1 = us_poll.T.reset_index().drop([0, 1])\n",
    "us_poll_1.rename(columns={\"index\": \"Year\", 227: \"pm2.5\"}, inplace=True)"
   ]
  },
  {
   "cell_type": "markdown",
   "metadata": {},
   "source": [
    " "
   ]
  },
  {
   "cell_type": "markdown",
   "metadata": {},
   "source": [
    "**Summary Statistics of X1 and Y**\n",
    "\n",
    "The first independent variable I choose is time, which is measured in years.\n",
    "\n",
    "X1 : Year\n",
    "\n",
    "Y  : Average land temperature in the US\n",
    "\n",
    "The statistic summary is in the table below. The mean is US's annual average land temperatures calculated by taking the mean from the monthly average land temperatures. The min and the max represent the degrees of the coldest and the warmest months of a year, which describes the range of the temperature of a year. The range of temperatures is worth studying because climate change is not only about global warming, but also the increased frequency of extreme weather. I choose time to be an independent variable because it reveals global warming."
   ]
  },
  {
   "cell_type": "code",
   "execution_count": 59,
   "metadata": {},
   "outputs": [
    {
     "data": {
      "text/html": [
       "<div>\n",
       "<style scoped>\n",
       "    .dataframe tbody tr th:only-of-type {\n",
       "        vertical-align: middle;\n",
       "    }\n",
       "\n",
       "    .dataframe tbody tr th {\n",
       "        vertical-align: top;\n",
       "    }\n",
       "\n",
       "    .dataframe thead tr th {\n",
       "        text-align: left;\n",
       "    }\n",
       "\n",
       "    .dataframe thead tr:last-of-type th {\n",
       "        text-align: right;\n",
       "    }\n",
       "</style>\n",
       "<table border=\"1\" class=\"dataframe\">\n",
       "  <thead>\n",
       "    <tr>\n",
       "      <th></th>\n",
       "      <th colspan=\"8\" halign=\"left\">Monthly Average Land Temperature</th>\n",
       "    </tr>\n",
       "    <tr>\n",
       "      <th></th>\n",
       "      <th>count</th>\n",
       "      <th>mean</th>\n",
       "      <th>std</th>\n",
       "      <th>min</th>\n",
       "      <th>25%</th>\n",
       "      <th>50%</th>\n",
       "      <th>75%</th>\n",
       "      <th>max</th>\n",
       "    </tr>\n",
       "    <tr>\n",
       "      <th>Year</th>\n",
       "      <th></th>\n",
       "      <th></th>\n",
       "      <th></th>\n",
       "      <th></th>\n",
       "      <th></th>\n",
       "      <th></th>\n",
       "      <th></th>\n",
       "      <th></th>\n",
       "    </tr>\n",
       "  </thead>\n",
       "  <tbody>\n",
       "    <tr>\n",
       "      <th>1993</th>\n",
       "      <td>12.0</td>\n",
       "      <td>8.867250</td>\n",
       "      <td>9.128539</td>\n",
       "      <td>-3.498</td>\n",
       "      <td>1.16925</td>\n",
       "      <td>8.9185</td>\n",
       "      <td>16.26525</td>\n",
       "      <td>21.254</td>\n",
       "    </tr>\n",
       "    <tr>\n",
       "      <th>1994</th>\n",
       "      <td>12.0</td>\n",
       "      <td>9.270333</td>\n",
       "      <td>9.386635</td>\n",
       "      <td>-3.729</td>\n",
       "      <td>1.80000</td>\n",
       "      <td>9.3035</td>\n",
       "      <td>17.41625</td>\n",
       "      <td>21.694</td>\n",
       "    </tr>\n",
       "    <tr>\n",
       "      <th>1995</th>\n",
       "      <td>12.0</td>\n",
       "      <td>9.331000</td>\n",
       "      <td>8.981776</td>\n",
       "      <td>-2.139</td>\n",
       "      <td>2.02400</td>\n",
       "      <td>9.0025</td>\n",
       "      <td>17.17150</td>\n",
       "      <td>21.632</td>\n",
       "    </tr>\n",
       "    <tr>\n",
       "      <th>1996</th>\n",
       "      <td>12.0</td>\n",
       "      <td>8.754333</td>\n",
       "      <td>9.402509</td>\n",
       "      <td>-4.316</td>\n",
       "      <td>1.13500</td>\n",
       "      <td>8.3985</td>\n",
       "      <td>16.45000</td>\n",
       "      <td>21.636</td>\n",
       "    </tr>\n",
       "    <tr>\n",
       "      <th>1997</th>\n",
       "      <td>12.0</td>\n",
       "      <td>9.172917</td>\n",
       "      <td>9.150793</td>\n",
       "      <td>-4.012</td>\n",
       "      <td>2.26500</td>\n",
       "      <td>8.1565</td>\n",
       "      <td>17.85400</td>\n",
       "      <td>21.597</td>\n",
       "    </tr>\n",
       "    <tr>\n",
       "      <th>1998</th>\n",
       "      <td>12.0</td>\n",
       "      <td>10.141167</td>\n",
       "      <td>8.926180</td>\n",
       "      <td>-1.690</td>\n",
       "      <td>2.73775</td>\n",
       "      <td>9.6500</td>\n",
       "      <td>18.48075</td>\n",
       "      <td>22.626</td>\n",
       "    </tr>\n",
       "    <tr>\n",
       "      <th>1999</th>\n",
       "      <td>12.0</td>\n",
       "      <td>9.567000</td>\n",
       "      <td>8.813897</td>\n",
       "      <td>-2.550</td>\n",
       "      <td>2.27900</td>\n",
       "      <td>9.0985</td>\n",
       "      <td>16.92975</td>\n",
       "      <td>21.923</td>\n",
       "    </tr>\n",
       "    <tr>\n",
       "      <th>2000</th>\n",
       "      <td>12.0</td>\n",
       "      <td>9.649750</td>\n",
       "      <td>9.082017</td>\n",
       "      <td>-3.459</td>\n",
       "      <td>1.90575</td>\n",
       "      <td>9.5315</td>\n",
       "      <td>17.21725</td>\n",
       "      <td>21.605</td>\n",
       "    </tr>\n",
       "    <tr>\n",
       "      <th>2001</th>\n",
       "      <td>12.0</td>\n",
       "      <td>9.785583</td>\n",
       "      <td>9.023614</td>\n",
       "      <td>-2.052</td>\n",
       "      <td>1.77200</td>\n",
       "      <td>9.4300</td>\n",
       "      <td>17.53300</td>\n",
       "      <td>21.907</td>\n",
       "    </tr>\n",
       "    <tr>\n",
       "      <th>2002</th>\n",
       "      <td>12.0</td>\n",
       "      <td>9.816167</td>\n",
       "      <td>8.992205</td>\n",
       "      <td>-1.166</td>\n",
       "      <td>1.50425</td>\n",
       "      <td>9.2495</td>\n",
       "      <td>18.15150</td>\n",
       "      <td>22.675</td>\n",
       "    </tr>\n",
       "    <tr>\n",
       "      <th>2003</th>\n",
       "      <td>12.0</td>\n",
       "      <td>9.755083</td>\n",
       "      <td>9.111083</td>\n",
       "      <td>-1.820</td>\n",
       "      <td>2.24450</td>\n",
       "      <td>10.2400</td>\n",
       "      <td>16.94200</td>\n",
       "      <td>22.499</td>\n",
       "    </tr>\n",
       "    <tr>\n",
       "      <th>2004</th>\n",
       "      <td>12.0</td>\n",
       "      <td>9.667500</td>\n",
       "      <td>9.005986</td>\n",
       "      <td>-3.841</td>\n",
       "      <td>2.91075</td>\n",
       "      <td>10.0290</td>\n",
       "      <td>17.15800</td>\n",
       "      <td>21.663</td>\n",
       "    </tr>\n",
       "    <tr>\n",
       "      <th>2005</th>\n",
       "      <td>12.0</td>\n",
       "      <td>9.892667</td>\n",
       "      <td>9.061019</td>\n",
       "      <td>-1.884</td>\n",
       "      <td>2.76300</td>\n",
       "      <td>9.6430</td>\n",
       "      <td>18.17525</td>\n",
       "      <td>22.478</td>\n",
       "    </tr>\n",
       "    <tr>\n",
       "      <th>2006</th>\n",
       "      <td>12.0</td>\n",
       "      <td>9.974500</td>\n",
       "      <td>8.879165</td>\n",
       "      <td>-0.574</td>\n",
       "      <td>2.05375</td>\n",
       "      <td>9.7290</td>\n",
       "      <td>16.97725</td>\n",
       "      <td>22.911</td>\n",
       "    </tr>\n",
       "    <tr>\n",
       "      <th>2007</th>\n",
       "      <td>12.0</td>\n",
       "      <td>9.837500</td>\n",
       "      <td>9.504001</td>\n",
       "      <td>-2.959</td>\n",
       "      <td>2.89750</td>\n",
       "      <td>9.7040</td>\n",
       "      <td>17.95000</td>\n",
       "      <td>22.352</td>\n",
       "    </tr>\n",
       "    <tr>\n",
       "      <th>2008</th>\n",
       "      <td>12.0</td>\n",
       "      <td>8.951417</td>\n",
       "      <td>9.346232</td>\n",
       "      <td>-3.883</td>\n",
       "      <td>1.72450</td>\n",
       "      <td>8.5330</td>\n",
       "      <td>17.27050</td>\n",
       "      <td>21.690</td>\n",
       "    </tr>\n",
       "    <tr>\n",
       "      <th>2009</th>\n",
       "      <td>12.0</td>\n",
       "      <td>9.137083</td>\n",
       "      <td>9.248552</td>\n",
       "      <td>-3.569</td>\n",
       "      <td>2.04725</td>\n",
       "      <td>8.3530</td>\n",
       "      <td>17.61575</td>\n",
       "      <td>21.463</td>\n",
       "    </tr>\n",
       "    <tr>\n",
       "      <th>2010</th>\n",
       "      <td>12.0</td>\n",
       "      <td>9.505583</td>\n",
       "      <td>9.694852</td>\n",
       "      <td>-3.610</td>\n",
       "      <td>2.05075</td>\n",
       "      <td>10.2315</td>\n",
       "      <td>18.00925</td>\n",
       "      <td>22.078</td>\n",
       "    </tr>\n",
       "    <tr>\n",
       "      <th>2011</th>\n",
       "      <td>12.0</td>\n",
       "      <td>9.549917</td>\n",
       "      <td>9.484540</td>\n",
       "      <td>-3.507</td>\n",
       "      <td>2.06575</td>\n",
       "      <td>9.5360</td>\n",
       "      <td>17.75550</td>\n",
       "      <td>22.722</td>\n",
       "    </tr>\n",
       "    <tr>\n",
       "      <th>2012</th>\n",
       "      <td>12.0</td>\n",
       "      <td>10.261083</td>\n",
       "      <td>9.061826</td>\n",
       "      <td>-2.268</td>\n",
       "      <td>2.64300</td>\n",
       "      <td>9.9420</td>\n",
       "      <td>17.76550</td>\n",
       "      <td>23.008</td>\n",
       "    </tr>\n",
       "    <tr>\n",
       "      <th>2013</th>\n",
       "      <td>9.0</td>\n",
       "      <td>11.297111</td>\n",
       "      <td>9.915754</td>\n",
       "      <td>-2.155</td>\n",
       "      <td>2.28900</td>\n",
       "      <td>14.0730</td>\n",
       "      <td>20.19800</td>\n",
       "      <td>22.074</td>\n",
       "    </tr>\n",
       "  </tbody>\n",
       "</table>\n",
       "</div>"
      ],
      "text/plain": [
       "     Monthly Average Land Temperature                                       \\\n",
       "                                count       mean       std    min      25%   \n",
       "Year                                                                         \n",
       "1993                             12.0   8.867250  9.128539 -3.498  1.16925   \n",
       "1994                             12.0   9.270333  9.386635 -3.729  1.80000   \n",
       "1995                             12.0   9.331000  8.981776 -2.139  2.02400   \n",
       "1996                             12.0   8.754333  9.402509 -4.316  1.13500   \n",
       "1997                             12.0   9.172917  9.150793 -4.012  2.26500   \n",
       "1998                             12.0  10.141167  8.926180 -1.690  2.73775   \n",
       "1999                             12.0   9.567000  8.813897 -2.550  2.27900   \n",
       "2000                             12.0   9.649750  9.082017 -3.459  1.90575   \n",
       "2001                             12.0   9.785583  9.023614 -2.052  1.77200   \n",
       "2002                             12.0   9.816167  8.992205 -1.166  1.50425   \n",
       "2003                             12.0   9.755083  9.111083 -1.820  2.24450   \n",
       "2004                             12.0   9.667500  9.005986 -3.841  2.91075   \n",
       "2005                             12.0   9.892667  9.061019 -1.884  2.76300   \n",
       "2006                             12.0   9.974500  8.879165 -0.574  2.05375   \n",
       "2007                             12.0   9.837500  9.504001 -2.959  2.89750   \n",
       "2008                             12.0   8.951417  9.346232 -3.883  1.72450   \n",
       "2009                             12.0   9.137083  9.248552 -3.569  2.04725   \n",
       "2010                             12.0   9.505583  9.694852 -3.610  2.05075   \n",
       "2011                             12.0   9.549917  9.484540 -3.507  2.06575   \n",
       "2012                             12.0  10.261083  9.061826 -2.268  2.64300   \n",
       "2013                              9.0  11.297111  9.915754 -2.155  2.28900   \n",
       "\n",
       "                                 \n",
       "          50%       75%     max  \n",
       "Year                             \n",
       "1993   8.9185  16.26525  21.254  \n",
       "1994   9.3035  17.41625  21.694  \n",
       "1995   9.0025  17.17150  21.632  \n",
       "1996   8.3985  16.45000  21.636  \n",
       "1997   8.1565  17.85400  21.597  \n",
       "1998   9.6500  18.48075  22.626  \n",
       "1999   9.0985  16.92975  21.923  \n",
       "2000   9.5315  17.21725  21.605  \n",
       "2001   9.4300  17.53300  21.907  \n",
       "2002   9.2495  18.15150  22.675  \n",
       "2003  10.2400  16.94200  22.499  \n",
       "2004  10.0290  17.15800  21.663  \n",
       "2005   9.6430  18.17525  22.478  \n",
       "2006   9.7290  16.97725  22.911  \n",
       "2007   9.7040  17.95000  22.352  \n",
       "2008   8.5330  17.27050  21.690  \n",
       "2009   8.3530  17.61575  21.463  \n",
       "2010  10.2315  18.00925  22.078  \n",
       "2011   9.5360  17.75550  22.722  \n",
       "2012   9.9420  17.76550  23.008  \n",
       "2013  14.0730  20.19800  22.074  "
      ]
     },
     "execution_count": 59,
     "metadata": {},
     "output_type": "execute_result"
    }
   ],
   "source": [
    "us_t = country_t.groupby(\"Country\").get_group(\"United States\")\n",
    "usa_t = pd.DataFrame({\"Year\" : [x[:4] for x in us_t[\"dt\"]], \"Monthly Average Land Temperature\" : us_t[\"AverageTemperature\"]})\n",
    "\n",
    "# Describe the summary statistics of the independent variable year and dependent variable Average Land Temperature\n",
    "usa_t[usa_t[\"Year\"]>\"1992\"].groupby(\"Year\").describe()"
   ]
  },
  {
   "cell_type": "markdown",
   "metadata": {},
   "source": [
    " \n",
    "\n",
    "\n",
    "\n",
    " "
   ]
  },
  {
   "cell_type": "markdown",
   "metadata": {},
   "source": [
    " "
   ]
  },
  {
   "cell_type": "markdown",
   "metadata": {},
   "source": [
    "**Graph 1**\n",
    "\n",
    "X1 : Year\n",
    "\n",
    "Y : Average Land temperature (Celsius)\n",
    "\n",
    "The graph \"Average Land Temperature of USA from 1993 to 2013\" illustrates defines the range and the median monthly temperature of each year from 1993 to 2013 in the US. The green line in the middle of each bar is the median temperature of the 12 months. The black lines in the top and bottom of each year represents the range of monthly temperatures.\n",
    "\n",
    "From the graph we observe that the highest temperatures do not vary much as the lowest temperatures. However, the median temperature of the US has a farily higher increase after 2008. The overall change of the median temperature of each year is not clear in this graph. For instance, the median average temperatures have a slight increase from 1999 to 2000, and then fall from 2000 to 2001 with a little difference. \n",
    "\n",
    "In conclusion, this graph aims the define the change in temperature range of each year since the annual average temperature is not shown by the boxplot."
   ]
  },
  {
   "cell_type": "code",
   "execution_count": 57,
   "metadata": {},
   "outputs": [
    {
     "data": {
      "text/plain": [
       "Text(0.5, 1.0, 'Annual Average Land Temperature of USA from 1993 to 2013')"
      ]
     },
     "execution_count": 57,
     "metadata": {},
     "output_type": "execute_result"
    },
    {
     "data": {
      "image/png": "[encoded data removed]",
      "text/plain": [
       "<Figure size 792x360 with 1 Axes>"
      ]
     },
     "metadata": {
      "needs_background": "light"
     },
     "output_type": "display_data"
    }
   ],
   "source": [
    "# graph 1\n",
    "# graph the boxplot of the data of the USA from 2003 to 2013\n",
    "# X1 : year\n",
    "# Y : Average Land temperature (Celsius)\n",
    "us_box = usa_t[usa_t[\"Year\"]>\"1992\"].boxplot(by=\"Year\", figsize=(11, 5))\n",
    "us_box.set_ylabel(\"Average Land Temperature (Celsius)\")\n",
    "us_box.set_xlabel(\"Y ear\")\n",
    "us_box.set_title(\"Average Land Temperature of USA from 1993 to 2013\")"
   ]
  },
  {
   "cell_type": "markdown",
   "metadata": {},
   "source": [
    " \n",
    "    "
   ]
  },
  {
   "cell_type": "markdown",
   "metadata": {},
   "source": [
    " "
   ]
  },
  {
   "cell_type": "markdown",
   "metadata": {},
   "source": [
    "**Graph 2**\n",
    "\n",
    "X1 : Year\n",
    "\n",
    "Y : Average Land temperature (Celsius)\n",
    "    \n",
    "The graph \"Annual Land Average Temperature of the USA from 1993 to 2013\" is different from graph 1 because it illustrates the annual average temperatures instead of monthly average temperatures. This graph provides a more direct visual representation of the change in average temperatures in twenty-one years. \n",
    "\n",
    "We observe that over these 21 years, the highest annual average temperature occurred in 2013. The average temperatures were rising after 2018. the instant rise from 1996 to 1998 had been maintained until 2008, when another trough happened, which indicated a fairly low annual average temperature. In general, the average temperatures were in a rising pattern. Thus, we can conclude from this graph that the United States is affected by the global warming from the increasing annual average temperatures."
   ]
  },
  {
   "cell_type": "code",
   "execution_count": 71,
   "metadata": {},
   "outputs": [
    {
     "data": {
      "text/plain": [
       "(8.0, 12.5)"
      ]
     },
     "execution_count": 71,
     "metadata": {},
     "output_type": "execute_result"
    },
    {
     "data": {
      "image/png": "[encoded data removed]",
      "text/plain": [
       "<Figure size 432x360 with 1 Axes>"
      ]
     },
     "metadata": {
      "needs_background": "light"
     },
     "output_type": "display_data"
    }
   ],
   "source": [
    "# graph 2\n",
    "# A complement to graph 1\n",
    "# X : year\n",
    "# Y : Average temperature (Celsius)\n",
    "us_annual_avgtemp = usa_t[usa_t[\"Year\"]>\"1992\"].groupby(\"Year\")[\"Monthly Average Land Temperature\"]\n",
    "\n",
    "# calculate the annual average temperature from the monthly average temperature\n",
    "annual_avg = pd.DataFrame()\n",
    "annual_avg[\"Annual Average Temperature in USA\"] = us_annual_avgtemp.mean()\n",
    "us_annual_temp_air = pd.merge(annual_avg.reset_index(), us_poll_1, on=\"Year\", how=\"left\").set_index(\"Year\")\n",
    "\n",
    "at_line = us_annual_temp_air.reset_index().plot(x=\"Year\", y=\"Annual Average Temperature in USA\", figsize=(6, 5))\n",
    "at_line.set_title(\"Annual Average Land Temperature of USA from 1993 to 2013\")\n",
    "at_line.set_ylabel(\"Average Land Temperature (Celsius)\")\n",
    "\n",
    "at_line.set_ylim(8, 12.5)"
   ]
  },
  {
   "cell_type": "markdown",
   "metadata": {},
   "source": [
    " "
   ]
  },
  {
   "cell_type": "markdown",
   "metadata": {},
   "source": [
    "**Summary Statistics of X2 and Y**\n",
    "\n",
    "The second independent variable I choose is the air pollution, which is measured in micrograms of PM 2.5 per cubic meter in the air.\n",
    "\n",
    "X2 : PM 2.5 in micrograms percubic meter\n",
    "\n",
    "Y  : Average land temperature in the US\n",
    "\n",
    "The data gather the US's annual average concentration of PM 2.5 in the air and the annual average land temperature from 2010 to 2013. The purpose is to analyze how is the exposure of PM 2.5 correlated with the land temperature. There are only four data because the Air Pollution dataset is from 2010 to 2017, while the Temperature dataset ends up in 2013. The mean column is the average land temperatures with respect to the corresponding PM 2.5 concentration. I choose PM2.5 concentration to be the second independent variable because greenhouse gasses are the root cause of global warming. I want to know how air pollution affects land temperature."
   ]
  },
  {
   "cell_type": "code",
   "execution_count": 62,
   "metadata": {},
   "outputs": [
    {
     "data": {
      "text/html": [
       "<div>\n",
       "<style scoped>\n",
       "    .dataframe tbody tr th:only-of-type {\n",
       "        vertical-align: middle;\n",
       "    }\n",
       "\n",
       "    .dataframe tbody tr th {\n",
       "        vertical-align: top;\n",
       "    }\n",
       "\n",
       "    .dataframe thead tr th {\n",
       "        text-align: left;\n",
       "    }\n",
       "\n",
       "    .dataframe thead tr:last-of-type th {\n",
       "        text-align: right;\n",
       "    }\n",
       "</style>\n",
       "<table border=\"1\" class=\"dataframe\">\n",
       "  <thead>\n",
       "    <tr>\n",
       "      <th></th>\n",
       "      <th colspan=\"8\" halign=\"left\">Annual Average Land Temperature</th>\n",
       "    </tr>\n",
       "    <tr>\n",
       "      <th></th>\n",
       "      <th>count</th>\n",
       "      <th>mean</th>\n",
       "      <th>std</th>\n",
       "      <th>min</th>\n",
       "      <th>25%</th>\n",
       "      <th>50%</th>\n",
       "      <th>75%</th>\n",
       "      <th>max</th>\n",
       "    </tr>\n",
       "    <tr>\n",
       "      <th>pm2.5</th>\n",
       "      <th></th>\n",
       "      <th></th>\n",
       "      <th></th>\n",
       "      <th></th>\n",
       "      <th></th>\n",
       "      <th></th>\n",
       "      <th></th>\n",
       "      <th></th>\n",
       "    </tr>\n",
       "  </thead>\n",
       "  <tbody>\n",
       "    <tr>\n",
       "      <th>8.734777</th>\n",
       "      <td>9.0</td>\n",
       "      <td>11.297111</td>\n",
       "      <td>1.884111e-15</td>\n",
       "      <td>11.297111</td>\n",
       "      <td>11.297111</td>\n",
       "      <td>11.297111</td>\n",
       "      <td>11.297111</td>\n",
       "      <td>11.297111</td>\n",
       "    </tr>\n",
       "    <tr>\n",
       "      <th>9.003163</th>\n",
       "      <td>12.0</td>\n",
       "      <td>10.261083</td>\n",
       "      <td>0.000000e+00</td>\n",
       "      <td>10.261083</td>\n",
       "      <td>10.261083</td>\n",
       "      <td>10.261083</td>\n",
       "      <td>10.261083</td>\n",
       "      <td>10.261083</td>\n",
       "    </tr>\n",
       "    <tr>\n",
       "      <th>9.358636</th>\n",
       "      <td>12.0</td>\n",
       "      <td>9.505583</td>\n",
       "      <td>0.000000e+00</td>\n",
       "      <td>9.505583</td>\n",
       "      <td>9.505583</td>\n",
       "      <td>9.505583</td>\n",
       "      <td>9.505583</td>\n",
       "      <td>9.505583</td>\n",
       "    </tr>\n",
       "    <tr>\n",
       "      <th>9.740641</th>\n",
       "      <td>12.0</td>\n",
       "      <td>9.549917</td>\n",
       "      <td>1.855344e-15</td>\n",
       "      <td>9.549917</td>\n",
       "      <td>9.549917</td>\n",
       "      <td>9.549917</td>\n",
       "      <td>9.549917</td>\n",
       "      <td>9.549917</td>\n",
       "    </tr>\n",
       "  </tbody>\n",
       "</table>\n",
       "</div>"
      ],
      "text/plain": [
       "         Annual Average Land Temperature                                      \\\n",
       "                                   count       mean           std        min   \n",
       "pm2.5                                                                          \n",
       "8.734777                             9.0  11.297111  1.884111e-15  11.297111   \n",
       "9.003163                            12.0  10.261083  0.000000e+00  10.261083   \n",
       "9.358636                            12.0   9.505583  0.000000e+00   9.505583   \n",
       "9.740641                            12.0   9.549917  1.855344e-15   9.549917   \n",
       "\n",
       "                                                      \n",
       "                25%        50%        75%        max  \n",
       "pm2.5                                                 \n",
       "8.734777  11.297111  11.297111  11.297111  11.297111  \n",
       "9.003163  10.261083  10.261083  10.261083  10.261083  \n",
       "9.358636   9.505583   9.505583   9.505583   9.505583  \n",
       "9.740641   9.549917   9.549917   9.549917   9.549917  "
      ]
     },
     "execution_count": 62,
     "metadata": {},
     "output_type": "execute_result"
    }
   ],
   "source": [
    "# Merge the temperature data and the pm2.5 data\n",
    "temp_air = pd.merge(usa_t[usa_t[\"Year\"]>\"2002\"], us_poll_1, on=\"Year\").set_index(\"Year\")\n",
    "temp_air[\"Annual Average Land Temperature\"] = usa_t[usa_t[\"Year\"]>\"2009\"].groupby(\"Year\")[\"Monthly Average Land Temperature\"].mean()\n",
    "\n",
    "# Describe the summary statistics of the independent variable pm2.5 concentration\n",
    "# and the dependent variable Average Land Temperature\n",
    "temp_air.drop([\"Monthly Average Land Temperature\"], axis=1).groupby(\"pm2.5\").describe()"
   ]
  },
  {
   "cell_type": "markdown",
   "metadata": {},
   "source": [
    " "
   ]
  },
  {
   "cell_type": "markdown",
   "metadata": {},
   "source": [
    " "
   ]
  },
  {
   "cell_type": "markdown",
   "metadata": {},
   "source": [
    "**Graph 3**\n",
    "\n",
    "X2 : PM 2.5 in micrograms percubic meter\n",
    "\n",
    "Y  : Average land temperature in the US\n",
    "    \n",
    "The graph aims to determine the correlation between PM 2.5 concentration and land temperature. From the graph, we can tell that the highest land temperature occurs at the lowest PM 2.5 concentration in the air. The lowest land temperature occurs at the second-highest PM 2.5 concentration, which is about 9.36 micrograms/cubic meter. However, the second-lowest land temperature at the highest PM 2.5 concentration is only about 0.05 degrees Celcius higher than the lowest land temperature.\n",
    "\n",
    "We can conclude from this graph that the concentration of PM 2.5 in the air is a factor that alters land temperature. It is negatively correlated with land temperature so that the land temperature decreases as PM 2.5 is more concentrated in the air. However, from the two rightmost dots, we are rational to guess that PM 2.5 concentration has a limited effect on the land temperature."
   ]
  },
  {
   "cell_type": "code",
   "execution_count": 76,
   "metadata": {},
   "outputs": [
    {
     "data": {
      "text/plain": [
       "(8.5, 10.0)"
      ]
     },
     "execution_count": 76,
     "metadata": {},
     "output_type": "execute_result"
    },
    {
     "data": {
      "image/png": "[encoded data removed]",
      "text/plain": [
       "<Figure size 432x288 with 1 Axes>"
      ]
     },
     "metadata": {
      "needs_background": "light"
     },
     "output_type": "display_data"
    }
   ],
   "source": [
    "# graph 3\n",
    "# graph the scatter plot of the Data of USA from 2010 to 2013\n",
    "# X : PM2.5 micrograms per cubic meter\n",
    "# Y : Average temperature (Celsius)\n",
    "us_dot = temp_air.plot(kind=\"scatter\", x=\"pm2.5\", y=\"Annual Average Land Temperature\")\n",
    "us_dot.set_ylabel(\"Average Land Temperature (Celsius)\")\n",
    "us_dot.set_xlabel(\"PM 2.5 Exposure (micrograms per cubic meter)\")\n",
    "us_dot.set_title(\"USA annual average PM 2.5 Exposure and the Annual Average Temperature\")\n",
    "us_dot.set_ylim(9.00, 12.00)\n",
    "us_dot.set_xlim(8.5, 10)"
   ]
  },
  {
   "cell_type": "markdown",
   "metadata": {},
   "source": [
    " "
   ]
  },
  {
   "cell_type": "markdown",
   "metadata": {},
   "source": [
    "**Graph 4**\n",
    "\n",
    "X1 : Year\n",
    "\n",
    "Y : Average Land Temperature\n",
    "    \n",
    "The line plot \"Annual Average Land Temperature in Canada, United States, Mexico, Nicaragua, and Honduras from 2003 to 2013\" includes five subgroups, which are the five largest countries in North America. I choose these variables because I want to compare the climate change in the US to the other countries in North America. \n",
    "\n",
    "From the graph, we can see that Nicaragua and Honduras have fairly similar climate change patter. All five countries experienced an instant increase in climate in 1998. Also, the average temperatures started to increase at a higher rate from 2010 to 2013, where Canada has the biggest climate change. \n",
    "\n",
    "In general, we can conclude that all five countries experienced climate change from 1993 to 2013. The US has a smoother climate change in comparison with Canada."
   ]
  },
  {
   "cell_type": "code",
   "execution_count": 77,
   "metadata": {},
   "outputs": [
    {
     "data": {
      "text/plain": [
       "Text(0.5, 1.0, 'Annual Average Land Temperature in Canada, United States, Mexico, Nicaragua, and Honduras from 2003 to 2013')"
      ]
     },
     "execution_count": 77,
     "metadata": {},
     "output_type": "execute_result"
    },
    {
     "data": {
      "image/png": "[encoded data removed]",
      "text/plain": [
       "<Figure size 676.8x504 with 1 Axes>"
      ]
     },
     "metadata": {
      "needs_background": "light"
     },
     "output_type": "display_data"
    }
   ],
   "source": [
    "# graph 4:\n",
    "# A graph of the five largest countries in North America \n",
    "# The five largest countries in North America are : Canada, United States, Mexico, Nicaragua, and Honduras\n",
    "# X1 : year\n",
    "# Y : Average Temperature\n",
    "\n",
    "# First calculate the annual average temperatures for all countries\n",
    "all_t = pd.DataFrame({ \"Country\": country_t[\"Country\"], \"Year\" : [x[:4] for x in country_t[\"dt\"]], \n",
    "                      \"Average Temperature\" : country_t[\"AverageTemperature\"]})\n",
    "c_annual_avgtemp = all_t[all_t[\"Year\"]>\"1992\"].groupby([\"Country\", \"Year\"])[\"Average Temperature\"]\n",
    "\n",
    "# Calculate the annual average temperature for each country\n",
    "an_avg = pd.DataFrame()\n",
    "an_avg[\"Annual Average Temperature\"] = c_annual_avgtemp.mean()\n",
    "\n",
    "# Graph the line plot for the five countries\n",
    "fig, ax = plt.subplots()\n",
    "ax.set_ylim(-15, 40)\n",
    "\n",
    "an_avg.groupby(\"Country\").get_group(\"Canada\").reset_index().plot(ax=ax, y=\"Annual Average Temperature\", x=\"Year\", legend=True, label=\"Canada\", figsize=(9.4, 7))\n",
    "an_avg.groupby(\"Country\").get_group(\"United States\").reset_index().plot(ax=ax, y=\"Annual Average Temperature\", x=\"Year\", legend=True, label=\"Unite States\", linewidth=3.8, color=\"b\")\n",
    "an_avg.groupby(\"Country\").get_group(\"Mexico\").reset_index().plot(ax=ax, y=\"Annual Average Temperature\", x=\"Year\", legend=True, label=\"Mexico\")\n",
    "an_avg.groupby(\"Country\").get_group(\"Nicaragua\").reset_index().plot(ax=ax, y=\"Annual Average Temperature\", x=\"Year\", legend=True, label=\"Nicaragua\")\n",
    "an_avg.groupby(\"Country\").get_group(\"Honduras\").reset_index().plot(ax=ax, y=\"Annual Average Temperature\", x=\"Year\", legend=True, label=\"Honduras\")\n",
    "\n",
    "ax.legend(loc='upper right')\n",
    "ax.set_ylabel(\"Average Land Temperature (Celsius)\")\n",
    "ax.set_xlabel(\"Y ear\")\n",
    "ax.set_title(\"Annual Average Land Temperature in Canada, United States, Mexico, Nicaragua, and Honduras from 2003 to 2013\")"
   ]
  },
  {
   "cell_type": "markdown",
   "metadata": {},
   "source": [
    " "
   ]
  },
  {
   "cell_type": "markdown",
   "metadata": {},
   "source": [
    " "
   ]
  },
  {
   "cell_type": "markdown",
   "metadata": {},
   "source": [
    "**Conclusion**\n",
    "\n",
    "Graph 1 and Graph 2 show the change in temperatures in the US from 1993 to 2013. From the conclusion of these two graphs and Graph 4, we can conclude that the United States has been affected by global warming, resulting in an increase in annual average land temperature. From Graph 3, we conclude that the concentration of PM 2.5 is negatively correlated with land temperature. \n",
    "\n",
    "Some interesting questions I come up with when analyzing the graphs:\n",
    "1. From graph 3: Does the concentration of PM 2.5 in the air has a limited effect on land temperature? In other words, does it only affect the land temperature to an extent?\n",
    "\n",
    "2. From graph 4: What happened in 1998 and 2010 that instantly raised the overall climate in North America? What are some phenomena caused by these extreme climate changes?\n",
    "\n",
    "3. From graph 4: Starting from 2010, the countries in North America experienced a continuous increase in land temperature. What are some laws on environmental protection published by the government to prevent further climate change and global warming?"
   ]
  }
 ],
 "metadata": {
  "kernelspec": {
   "display_name": "Python 3",
   "language": "python",
   "name": "python3"
  },
  "language_info": {
   "codemirror_mode": {
    "name": "ipython",
    "version": 3
   },
   "file_extension": ".py",
   "mimetype": "text/x-python",
   "name": "python",
   "nbconvert_exporter": "python",
   "pygments_lexer": "ipython3",
   "version": "3.8.3"
  }
 },
 "nbformat": 4,
 "nbformat_minor": 4
}
