{
 "cells": [
  {
   "cell_type": "markdown",
   "metadata": {},
   "source": [
    "# How severe was the United States of America's climate change compared to the rest of the world?\n"
   ]
  },
  {
   "cell_type": "code",
   "execution_count": null,
   "metadata": {},
   "outputs": [],
   "source": []
  },
  {
   "cell_type": "code",
   "execution_count": 2,
   "metadata": {},
   "outputs": [],
   "source": [
    "import pandas as pd\n",
    "import numpy as np"
   ]
  },
  {
   "cell_type": "code",
   "execution_count": 9,
   "metadata": {},
   "outputs": [],
   "source": [
    "# upload the data\n",
    "city_temperature = pd.read_csv(r\"C:\\Users\\amyc0\\OneDrive\\Documents\\ECO225\\archive\\GlobalLandTemperaturesByCity.csv\")\n",
    "major_temperature = pd.read_csv(r\"C:\\Users\\amyc0\\OneDrive\\Documents\\ECO225\\archive\\GlobalLandTemperaturesByMajorCity.csv\")\n",
    "state_temperature = pd.read_csv(r\"C:\\Users\\amyc0\\OneDrive\\Documents\\ECO225\\archive\\GlobalLandTemperaturesByState.csv\")\n",
    "country_temperature = pd.read_csv(r\"C:\\Users\\amyc0\\OneDrive\\Documents\\ECO225\\archive\\GlobalLandTemperaturesByCountry.csv\")\n",
    "global_temperature = pd.read_csv(r\"C:\\Users\\amyc0\\OneDrive\\Documents\\ECO225\\archive\\GlobalTemperatures.csv\")\n",
    "pollution = pd.read_csv(r\"C:\\Users\\amyc0\\OneDrive\\Documents\\ECO225\\archive\\PM2.5GlobalAirPollution.csv\")"
   ]
  },
  {
   "cell_type": "code",
   "execution_count": 10,
   "metadata": {},
   "outputs": [],
   "source": [
    "# data cleaning process\n",
    "# drop the missing data\n",
    "city_t = city_temperature.dropna()\n",
    "major_t = major_temperature.dropna()\n",
    "state_t = state_temperature.dropna()\n",
    "country_t = country_temperature.dropna()\n",
    "global_t = global_temperature.dropna()"
   ]
  },
  {
   "cell_type": "code",
   "execution_count": 11,
   "metadata": {},
   "outputs": [],
   "source": [
    "# data cleaning process\n",
    "# collect all the data of USA\n",
    "us_city_t = city_t.groupby(\"Country\").get_group(\"United States\")\n",
    "us_major_t = major_t.groupby(\"Country\").get_group(\"United States\")\n",
    "us_state_t = state_t.groupby(\"Country\").get_group(\"United States\")\n",
    "us_poll = pollution.dropna().groupby(\"Country Name\").get_group(\"United States\").drop(['2016', '2017'], axis=1)"
   ]
  },
  {
   "cell_type": "code",
   "execution_count": null,
   "metadata": {},
   "outputs": [],
   "source": []
  }
 ],
 "metadata": {
  "kernelspec": {
   "display_name": "Python 3",
   "language": "python",
   "name": "python3"
  },
  "language_info": {
   "codemirror_mode": {
    "name": "ipython",
    "version": 3
   },
   "file_extension": ".py",
   "mimetype": "text/x-python",
   "name": "python",
   "nbconvert_exporter": "python",
   "pygments_lexer": "ipython3",
   "version": "3.8.3"
  }
 },
 "nbformat": 4,
 "nbformat_minor": 4
}
