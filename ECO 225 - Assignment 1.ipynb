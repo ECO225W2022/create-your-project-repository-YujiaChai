{
 "cells": [
  {
   "cell_type": "markdown",
   "metadata": {},
   "source": [
    "# How severe was the United States of America's climate change compared to the rest of the world?\n"
   ]
  },
  {
   "cell_type": "markdown",
   "metadata": {},
   "source": [
    "**Introduction**\n",
    "\n",
    "The reference climate data are gathered by the Berkeley Earth and repackaged by Kaggle. Berkeley Earth was founded in 2010 to illustrate global warming by observing global temperatures and analyzing climate change from these data. This dataset contains the monthly average temperatures of cities, states, countries and the globe from 1950 to 2015. The PM2.5 Global Air Pollution 2010-2017 data is referenced by Brauer on The World Bank website.\n",
    "\n",
    "This project aims to analyze the degree of climate change in the United States of America compared to global climate change. To achieve this goal, I will statistically graph and analyze the annual average land temperatures in the US as well as the annual global average land temperatures from 2003 to 2013. Analyzing the relation between the exposure of air pollution and the average temperatures procide a comprehensive understanding of Unite State's Climate change."
   ]
  },
  {
   "cell_type": "code",
   "execution_count": 146,
   "metadata": {},
   "outputs": [],
   "source": [
    "import pandas as pd\n",
    "import numpy as np\n",
    "import matplotlib.pyplot as plt"
   ]
  },
  {
   "cell_type": "code",
   "execution_count": 147,
   "metadata": {},
   "outputs": [],
   "source": [
    "# upload the data\n",
    "city_temperature = pd.read_csv(r\"C:\\Users\\amyc0\\OneDrive\\Documents\\ECO225\\archive\\GlobalLandTemperaturesByCity.csv\")\n",
    "major_temperature = pd.read_csv(r\"C:\\Users\\amyc0\\OneDrive\\Documents\\ECO225\\archive\\GlobalLandTemperaturesByMajorCity.csv\")\n",
    "state_temperature = pd.read_csv(r\"C:\\Users\\amyc0\\OneDrive\\Documents\\ECO225\\archive\\GlobalLandTemperaturesByState.csv\")\n",
    "country_temperature = pd.read_csv(r\"C:\\Users\\amyc0\\OneDrive\\Documents\\ECO225\\archive\\GlobalLandTemperaturesByCountry.csv\")\n",
    "global_temperature = pd.read_csv(r\"C:\\Users\\amyc0\\OneDrive\\Documents\\ECO225\\archive\\GlobalTemperatures.csv\")\n",
    "pollution = pd.read_csv(r\"C:\\Users\\amyc0\\OneDrive\\Documents\\ECO225\\archive\\PM2.5GlobalAirPollution.csv\")"
   ]
  },
  {
   "cell_type": "code",
   "execution_count": 148,
   "metadata": {},
   "outputs": [],
   "source": [
    "# data cleaning process\n",
    "# drop the missing data\n",
    "city_t = city_temperature.dropna()\n",
    "major_t = major_temperature.dropna()\n",
    "state_t = state_temperature.dropna()\n",
    "country_t = country_temperature.dropna()\n",
    "global_t = global_temperature.dropna()"
   ]
  },
  {
   "cell_type": "code",
   "execution_count": 149,
   "metadata": {},
   "outputs": [],
   "source": [
    "# data cleaning process\n",
    "# collect all the data of USA\n",
    "us_city_t = city_t.groupby(\"Country\").get_group(\"United States\")\n",
    "us_major_t = major_t.groupby(\"Country\").get_group(\"United States\")\n",
    "us_state_t = state_t.groupby(\"Country\").get_group(\"United States\")\n",
    "\n",
    "us_poll = pollution.dropna().groupby(\"Country Name\").get_group(\"United States\").drop(['2016', '2017'], axis=1)\n",
    "us_poll_1 = us_poll.T.reset_index().drop([0, 1])\n",
    "us_poll_1.rename(columns={\"index\": \"Year\", 227: \"pm2.5\"}, inplace=True)"
   ]
  },
  {
   "cell_type": "markdown",
   "metadata": {},
   "source": [
    "The first independent variable I choose is the time zone, which is measured in years."
   ]
  },
  {
   "cell_type": "code",
   "execution_count": 189,
   "metadata": {},
   "outputs": [
    {
     "data": {
      "text/html": [
       "<div>\n",
       "<style scoped>\n",
       "    .dataframe tbody tr th:only-of-type {\n",
       "        vertical-align: middle;\n",
       "    }\n",
       "\n",
       "    .dataframe tbody tr th {\n",
       "        vertical-align: top;\n",
       "    }\n",
       "\n",
       "    .dataframe thead tr th {\n",
       "        text-align: left;\n",
       "    }\n",
       "\n",
       "    .dataframe thead tr:last-of-type th {\n",
       "        text-align: right;\n",
       "    }\n",
       "</style>\n",
       "<table border=\"1\" class=\"dataframe\">\n",
       "  <thead>\n",
       "    <tr>\n",
       "      <th></th>\n",
       "      <th colspan=\"8\" halign=\"left\">Monthly Average Land Temperature</th>\n",
       "    </tr>\n",
       "    <tr>\n",
       "      <th></th>\n",
       "      <th>count</th>\n",
       "      <th>mean</th>\n",
       "      <th>std</th>\n",
       "      <th>min</th>\n",
       "      <th>25%</th>\n",
       "      <th>50%</th>\n",
       "      <th>75%</th>\n",
       "      <th>max</th>\n",
       "    </tr>\n",
       "    <tr>\n",
       "      <th>Year</th>\n",
       "      <th></th>\n",
       "      <th></th>\n",
       "      <th></th>\n",
       "      <th></th>\n",
       "      <th></th>\n",
       "      <th></th>\n",
       "      <th></th>\n",
       "      <th></th>\n",
       "    </tr>\n",
       "  </thead>\n",
       "  <tbody>\n",
       "    <tr>\n",
       "      <th>2003</th>\n",
       "      <td>12.0</td>\n",
       "      <td>9.755083</td>\n",
       "      <td>9.111083</td>\n",
       "      <td>-1.820</td>\n",
       "      <td>2.24450</td>\n",
       "      <td>10.2400</td>\n",
       "      <td>16.94200</td>\n",
       "      <td>22.499</td>\n",
       "    </tr>\n",
       "    <tr>\n",
       "      <th>2004</th>\n",
       "      <td>12.0</td>\n",
       "      <td>9.667500</td>\n",
       "      <td>9.005986</td>\n",
       "      <td>-3.841</td>\n",
       "      <td>2.91075</td>\n",
       "      <td>10.0290</td>\n",
       "      <td>17.15800</td>\n",
       "      <td>21.663</td>\n",
       "    </tr>\n",
       "    <tr>\n",
       "      <th>2005</th>\n",
       "      <td>12.0</td>\n",
       "      <td>9.892667</td>\n",
       "      <td>9.061019</td>\n",
       "      <td>-1.884</td>\n",
       "      <td>2.76300</td>\n",
       "      <td>9.6430</td>\n",
       "      <td>18.17525</td>\n",
       "      <td>22.478</td>\n",
       "    </tr>\n",
       "    <tr>\n",
       "      <th>2006</th>\n",
       "      <td>12.0</td>\n",
       "      <td>9.974500</td>\n",
       "      <td>8.879165</td>\n",
       "      <td>-0.574</td>\n",
       "      <td>2.05375</td>\n",
       "      <td>9.7290</td>\n",
       "      <td>16.97725</td>\n",
       "      <td>22.911</td>\n",
       "    </tr>\n",
       "    <tr>\n",
       "      <th>2007</th>\n",
       "      <td>12.0</td>\n",
       "      <td>9.837500</td>\n",
       "      <td>9.504001</td>\n",
       "      <td>-2.959</td>\n",
       "      <td>2.89750</td>\n",
       "      <td>9.7040</td>\n",
       "      <td>17.95000</td>\n",
       "      <td>22.352</td>\n",
       "    </tr>\n",
       "    <tr>\n",
       "      <th>2008</th>\n",
       "      <td>12.0</td>\n",
       "      <td>8.951417</td>\n",
       "      <td>9.346232</td>\n",
       "      <td>-3.883</td>\n",
       "      <td>1.72450</td>\n",
       "      <td>8.5330</td>\n",
       "      <td>17.27050</td>\n",
       "      <td>21.690</td>\n",
       "    </tr>\n",
       "    <tr>\n",
       "      <th>2009</th>\n",
       "      <td>12.0</td>\n",
       "      <td>9.137083</td>\n",
       "      <td>9.248552</td>\n",
       "      <td>-3.569</td>\n",
       "      <td>2.04725</td>\n",
       "      <td>8.3530</td>\n",
       "      <td>17.61575</td>\n",
       "      <td>21.463</td>\n",
       "    </tr>\n",
       "    <tr>\n",
       "      <th>2010</th>\n",
       "      <td>12.0</td>\n",
       "      <td>9.505583</td>\n",
       "      <td>9.694852</td>\n",
       "      <td>-3.610</td>\n",
       "      <td>2.05075</td>\n",
       "      <td>10.2315</td>\n",
       "      <td>18.00925</td>\n",
       "      <td>22.078</td>\n",
       "    </tr>\n",
       "    <tr>\n",
       "      <th>2011</th>\n",
       "      <td>12.0</td>\n",
       "      <td>9.549917</td>\n",
       "      <td>9.484540</td>\n",
       "      <td>-3.507</td>\n",
       "      <td>2.06575</td>\n",
       "      <td>9.5360</td>\n",
       "      <td>17.75550</td>\n",
       "      <td>22.722</td>\n",
       "    </tr>\n",
       "    <tr>\n",
       "      <th>2012</th>\n",
       "      <td>12.0</td>\n",
       "      <td>10.261083</td>\n",
       "      <td>9.061826</td>\n",
       "      <td>-2.268</td>\n",
       "      <td>2.64300</td>\n",
       "      <td>9.9420</td>\n",
       "      <td>17.76550</td>\n",
       "      <td>23.008</td>\n",
       "    </tr>\n",
       "    <tr>\n",
       "      <th>2013</th>\n",
       "      <td>9.0</td>\n",
       "      <td>11.297111</td>\n",
       "      <td>9.915754</td>\n",
       "      <td>-2.155</td>\n",
       "      <td>2.28900</td>\n",
       "      <td>14.0730</td>\n",
       "      <td>20.19800</td>\n",
       "      <td>22.074</td>\n",
       "    </tr>\n",
       "  </tbody>\n",
       "</table>\n",
       "</div>"
      ],
      "text/plain": [
       "     Monthly Average Land Temperature                                       \\\n",
       "                                count       mean       std    min      25%   \n",
       "Year                                                                         \n",
       "2003                             12.0   9.755083  9.111083 -1.820  2.24450   \n",
       "2004                             12.0   9.667500  9.005986 -3.841  2.91075   \n",
       "2005                             12.0   9.892667  9.061019 -1.884  2.76300   \n",
       "2006                             12.0   9.974500  8.879165 -0.574  2.05375   \n",
       "2007                             12.0   9.837500  9.504001 -2.959  2.89750   \n",
       "2008                             12.0   8.951417  9.346232 -3.883  1.72450   \n",
       "2009                             12.0   9.137083  9.248552 -3.569  2.04725   \n",
       "2010                             12.0   9.505583  9.694852 -3.610  2.05075   \n",
       "2011                             12.0   9.549917  9.484540 -3.507  2.06575   \n",
       "2012                             12.0  10.261083  9.061826 -2.268  2.64300   \n",
       "2013                              9.0  11.297111  9.915754 -2.155  2.28900   \n",
       "\n",
       "                                 \n",
       "          50%       75%     max  \n",
       "Year                             \n",
       "2003  10.2400  16.94200  22.499  \n",
       "2004  10.0290  17.15800  21.663  \n",
       "2005   9.6430  18.17525  22.478  \n",
       "2006   9.7290  16.97725  22.911  \n",
       "2007   9.7040  17.95000  22.352  \n",
       "2008   8.5330  17.27050  21.690  \n",
       "2009   8.3530  17.61575  21.463  \n",
       "2010  10.2315  18.00925  22.078  \n",
       "2011   9.5360  17.75550  22.722  \n",
       "2012   9.9420  17.76550  23.008  \n",
       "2013  14.0730  20.19800  22.074  "
      ]
     },
     "execution_count": 189,
     "metadata": {},
     "output_type": "execute_result"
    }
   ],
   "source": [
    "us_t = country_temperature.groupby(\"Country\").get_group(\"United States\")\n",
    "usa_t = pd.DataFrame({\"Year\" : [x[:4] for x in us_t[\"dt\"]], \"Monthly Average Land Temperature\" : us_t[\"AverageTemperature\"]})\n",
    "\n",
    "# Describe the summary statistics of the independent variable year and dependent variable Average Land Temperature\n",
    "usa_t[usa_t[\"Year\"]>\"2002\"].groupby(\"Year\").describe()"
   ]
  },
  {
   "cell_type": "code",
   "execution_count": 190,
   "metadata": {},
   "outputs": [
    {
     "data": {
      "text/plain": [
       "Text(0.5, 1.0, 'Monthly Average Land Temperature of USA from 2003 to 2013')"
      ]
     },
     "execution_count": 190,
     "metadata": {},
     "output_type": "execute_result"
    },
    {
     "data": {
      "image/png": "[encoded data removed]",
      "text/plain": [
       "<Figure size 432x360 with 1 Axes>"
      ]
     },
     "metadata": {
      "needs_background": "light"
     },
     "output_type": "display_data"
    }
   ],
   "source": [
    "# graph 1\n",
    "# graph the boxplot of the data of the USA from 2003 to 2013\n",
    "# X : year\n",
    "# Y : Average temperature (Celsius)\n",
    "us_box = usa_t[usa_t[\"Year\"]>\"2002\"].boxplot(by=\"Year\", figsize=(6, 5))\n",
    "us_box.set_ylabel(\"Average Temperature (Celsius)\")\n",
    "us_box.set_xlabel(\"Y ear\")\n",
    "us_box.set_title(\"Monthly Average Land Temperature of USA from 2003 to 2013\")"
   ]
  },
  {
   "cell_type": "code",
   "execution_count": 191,
   "metadata": {},
   "outputs": [
    {
     "data": {
      "text/plain": [
       "Text(0.5, 1.0, 'Annual Average Land Temperature of USA from 2003 to 2013')"
      ]
     },
     "execution_count": 191,
     "metadata": {},
     "output_type": "execute_result"
    },
    {
     "data": {
      "image/png": "[encoded data removed]",
      "text/plain": [
       "<Figure size 432x360 with 1 Axes>"
      ]
     },
     "metadata": {
      "needs_background": "light"
     },
     "output_type": "display_data"
    }
   ],
   "source": [
    "# graph 2\n",
    "# A complement to graph 1\n",
    "# X : year\n",
    "# Y : Average temperature (Celsius)\n",
    "us_annual_avgtemp = usa_t[usa_t[\"Year\"]>\"2002\"].groupby(\"Year\")[\"Monthly Average Land Temperature\"]\n",
    "\n",
    "# calculate the annual average temperature from the monthly average temperature\n",
    "annual_avg = pd.DataFrame()\n",
    "annual_avg[\"Annual Average Temperature in USA\"] = us_annual_avgtemp.mean()\n",
    "us_annual_temp_air = pd.merge(annual_avg.reset_index(), us_poll_1, on=\"Year\", how=\"left\").set_index(\"Year\")\n",
    "\n",
    "at_line = us_annual_temp_air.reset_index().plot(x=\"Year\", y=\"Annual Average Temperature in USA\", figsize=(6, 5))\n",
    "at_line.set_title(\"Annual Average Land Temperature of USA from 2003 to 2013\")"
   ]
  },
  {
   "cell_type": "code",
   "execution_count": 207,
   "metadata": {},
   "outputs": [
    {
     "data": {
      "text/html": [
       "<div>\n",
       "<style scoped>\n",
       "    .dataframe tbody tr th:only-of-type {\n",
       "        vertical-align: middle;\n",
       "    }\n",
       "\n",
       "    .dataframe tbody tr th {\n",
       "        vertical-align: top;\n",
       "    }\n",
       "\n",
       "    .dataframe thead tr th {\n",
       "        text-align: left;\n",
       "    }\n",
       "\n",
       "    .dataframe thead tr:last-of-type th {\n",
       "        text-align: right;\n",
       "    }\n",
       "</style>\n",
       "<table border=\"1\" class=\"dataframe\">\n",
       "  <thead>\n",
       "    <tr>\n",
       "      <th></th>\n",
       "      <th colspan=\"8\" halign=\"left\">Annual Average Temperature</th>\n",
       "    </tr>\n",
       "    <tr>\n",
       "      <th></th>\n",
       "      <th>count</th>\n",
       "      <th>mean</th>\n",
       "      <th>std</th>\n",
       "      <th>min</th>\n",
       "      <th>25%</th>\n",
       "      <th>50%</th>\n",
       "      <th>75%</th>\n",
       "      <th>max</th>\n",
       "    </tr>\n",
       "    <tr>\n",
       "      <th>pm2.5</th>\n",
       "      <th></th>\n",
       "      <th></th>\n",
       "      <th></th>\n",
       "      <th></th>\n",
       "      <th></th>\n",
       "      <th></th>\n",
       "      <th></th>\n",
       "      <th></th>\n",
       "    </tr>\n",
       "  </thead>\n",
       "  <tbody>\n",
       "    <tr>\n",
       "      <th>8.734777</th>\n",
       "      <td>9.0</td>\n",
       "      <td>11.297111</td>\n",
       "      <td>1.884111e-15</td>\n",
       "      <td>11.297111</td>\n",
       "      <td>11.297111</td>\n",
       "      <td>11.297111</td>\n",
       "      <td>11.297111</td>\n",
       "      <td>11.297111</td>\n",
       "    </tr>\n",
       "    <tr>\n",
       "      <th>9.003163</th>\n",
       "      <td>12.0</td>\n",
       "      <td>10.261083</td>\n",
       "      <td>0.000000e+00</td>\n",
       "      <td>10.261083</td>\n",
       "      <td>10.261083</td>\n",
       "      <td>10.261083</td>\n",
       "      <td>10.261083</td>\n",
       "      <td>10.261083</td>\n",
       "    </tr>\n",
       "    <tr>\n",
       "      <th>9.358636</th>\n",
       "      <td>12.0</td>\n",
       "      <td>9.505583</td>\n",
       "      <td>0.000000e+00</td>\n",
       "      <td>9.505583</td>\n",
       "      <td>9.505583</td>\n",
       "      <td>9.505583</td>\n",
       "      <td>9.505583</td>\n",
       "      <td>9.505583</td>\n",
       "    </tr>\n",
       "    <tr>\n",
       "      <th>9.740641</th>\n",
       "      <td>12.0</td>\n",
       "      <td>9.549917</td>\n",
       "      <td>1.855344e-15</td>\n",
       "      <td>9.549917</td>\n",
       "      <td>9.549917</td>\n",
       "      <td>9.549917</td>\n",
       "      <td>9.549917</td>\n",
       "      <td>9.549917</td>\n",
       "    </tr>\n",
       "  </tbody>\n",
       "</table>\n",
       "</div>"
      ],
      "text/plain": [
       "         Annual Average Temperature                                      \\\n",
       "                              count       mean           std        min   \n",
       "pm2.5                                                                     \n",
       "8.734777                        9.0  11.297111  1.884111e-15  11.297111   \n",
       "9.003163                       12.0  10.261083  0.000000e+00  10.261083   \n",
       "9.358636                       12.0   9.505583  0.000000e+00   9.505583   \n",
       "9.740641                       12.0   9.549917  1.855344e-15   9.549917   \n",
       "\n",
       "                                                      \n",
       "                25%        50%        75%        max  \n",
       "pm2.5                                                 \n",
       "8.734777  11.297111  11.297111  11.297111  11.297111  \n",
       "9.003163  10.261083  10.261083  10.261083  10.261083  \n",
       "9.358636   9.505583   9.505583   9.505583   9.505583  \n",
       "9.740641   9.549917   9.549917   9.549917   9.549917  "
      ]
     },
     "execution_count": 207,
     "metadata": {},
     "output_type": "execute_result"
    }
   ],
   "source": [
    "# Merge the temperature data and the pm2.5 data\n",
    "temp_air = pd.merge(usa_t[usa_t[\"Year\"]>\"2009\"], us_poll_1, on=\"Year\").set_index(\"Year\")\n",
    "temp_air[\"Annual Average Temperature\"] = usa_t[usa_t[\"Year\"]>\"2009\"].groupby(\"Year\")[\"Monthly Average Land Temperature\"].mean()\n",
    "\n",
    "# Describe the summary statistics of the independent variable pm2.5 concentration\n",
    "# and the dependent variable Average Land Temperature\n",
    "temp_air.drop([\"Monthly Average Land Temperature\"], axis=1).groupby(\"pm2.5\").describe()"
   ]
  },
  {
   "cell_type": "code",
   "execution_count": 195,
   "metadata": {},
   "outputs": [
    {
     "data": {
      "text/plain": [
       "Text(0.5, 1.0, 'USA annual average PM 2.5 Exposure and the Annual Average Temperature')"
      ]
     },
     "execution_count": 195,
     "metadata": {},
     "output_type": "execute_result"
    },
    {
     "data": {
      "image/png": "[encoded data removed]",
      "text/plain": [
       "<Figure size 432x288 with 1 Axes>"
      ]
     },
     "metadata": {
      "needs_background": "light"
     },
     "output_type": "display_data"
    }
   ],
   "source": [
    "# graph 3\n",
    "# graph the scatter plot of the Data of USA from 2010 to 2013\n",
    "# X : PM2.5 micrograms per cubic meter\n",
    "# Y : Average temperature (Celsius)\n",
    "us_dot = temp_air.plot(kind=\"scatter\", x=\"pm2.5\", y=\"Annual Average Temperature\")\n",
    "us_dot.set_ylabel(\"Average Temperature (Celsius)\")\n",
    "us_dot.set_xlabel(\"PM 2.5 Exposure (micrograms per cubic meter)\")\n",
    "us_dot.set_title(\"USA annual average PM 2.5 Exposure and the Annual Average Temperature\")"
   ]
  },
  {
   "cell_type": "code",
   "execution_count": null,
   "metadata": {},
   "outputs": [],
   "source": []
  },
  {
   "cell_type": "code",
   "execution_count": 208,
   "metadata": {},
   "outputs": [
    {
     "data": {
      "text/plain": [
       "Text(0.5, 1.0, 'The Annual Average Land Temperature in Canada, United States, Mexico, Nicaragua, and Honduras from 2003 to 2013')"
      ]
     },
     "execution_count": 208,
     "metadata": {},
     "output_type": "execute_result"
    },
    {
     "data": {
      "image/png": "[encoded data removed]",
      "text/plain": [
       "<Figure size 648x504 with 1 Axes>"
      ]
     },
     "metadata": {
      "needs_background": "light"
     },
     "output_type": "display_data"
    }
   ],
   "source": [
    "# graph 4:\n",
    "# A graph of the five largest countries in North America \n",
    "# The five largest countries in North America are : Canada, United States, Mexico, Nicaragua, and Honduras\n",
    "# X : year\n",
    "# Y : Average Temperature\n",
    "\n",
    "# First calculate the annual average temperatures for all countries\n",
    "all_t = pd.DataFrame({ \"Country\": country_t[\"Country\"], \"Year\" : [x[:4] for x in country_t[\"dt\"]], \n",
    "                      \"Average Temperature\" : country_t[\"AverageTemperature\"]})\n",
    "c_annual_avgtemp = all_t[all_t[\"Year\"]>\"2002\"].groupby([\"Country\", \"Year\"])[\"Average Temperature\"]\n",
    "\n",
    "# Calculate the annual average temperature for each country\n",
    "an_avg = pd.DataFrame()\n",
    "an_avg[\"Annual Average Temperature\"] = c_annual_avgtemp.mean()\n",
    "\n",
    "# Graph the line plot for the five countries\n",
    "fig, ax = plt.subplots()\n",
    "ax.set_ylim(-15, 40)\n",
    "an_avg.groupby(\"Country\").get_group(\"Canada\").reset_index().plot(ax=ax, y=\"Annual Average Temperature\", x=\"Year\", legend=True, label=\"Canada\", figsize=(9, 7))\n",
    "an_avg.groupby(\"Country\").get_group(\"United States\").reset_index().plot(ax=ax, y=\"Annual Average Temperature\", x=\"Year\", legend=True, label=\"Unite States\", linewidth=3.8, color=\"b\")\n",
    "an_avg.groupby(\"Country\").get_group(\"Mexico\").reset_index().plot(ax=ax, y=\"Annual Average Temperature\", x=\"Year\", legend=True, label=\"Mexico\")\n",
    "an_avg.groupby(\"Country\").get_group(\"Nicaragua\").reset_index().plot(ax=ax, y=\"Annual Average Temperature\", x=\"Year\", legend=True, Label=\"Nicaragua\")\n",
    "an_avg.groupby(\"Country\").get_group(\"Honduras\").reset_index().plot(ax=ax, y=\"Annual Average Temperature\", x=\"Year\", legend=True, label=\"Honduras\")\n",
    "\n",
    "ax.legend(loc='upper right')\n",
    "ax.set_ylabel(\"Average Temperature (Celsius)\")\n",
    "ax.set_xlabel(\"Y ear\")\n",
    "ax.set_title(\"The Annual Average Land Temperature in Canada, United States, Mexico, Nicaragua, and Honduras from 2003 to 2013\")"
   ]
  },
  {
   "cell_type": "code",
   "execution_count": null,
   "metadata": {},
   "outputs": [],
   "source": []
  },
  {
   "cell_type": "code",
   "execution_count": null,
   "metadata": {},
   "outputs": [],
   "source": []
  }
 ],
 "metadata": {
  "kernelspec": {
   "display_name": "Python 3",
   "language": "python",
   "name": "python3"
  },
  "language_info": {
   "codemirror_mode": {
    "name": "ipython",
    "version": 3
   },
   "file_extension": ".py",
   "mimetype": "text/x-python",
   "name": "python",
   "nbconvert_exporter": "python",
   "pygments_lexer": "ipython3",
   "version": "3.8.3"
  }
 },
 "nbformat": 4,
 "nbformat_minor": 4
}
